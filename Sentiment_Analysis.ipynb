{
  "nbformat": 4,
  "nbformat_minor": 0,
  "metadata": {
    "colab": {
      "provenance": [],
      "authorship_tag": "ABX9TyOKdbT1nQCeQLNsR/iS0lkl",
      "include_colab_link": true
    },
    "kernelspec": {
      "name": "python3",
      "display_name": "Python 3"
    },
    "language_info": {
      "name": "python"
    }
  },
  "cells": [
    {
      "cell_type": "markdown",
      "metadata": {
        "id": "view-in-github",
        "colab_type": "text"
      },
      "source": [
        "<a href=\"https://colab.research.google.com/github/angelanto0127/task4---Sentiment-Analysis/blob/main/Sentiment_Analysis.ipynb\" target=\"_parent\"><img src=\"https://colab.research.google.com/assets/colab-badge.svg\" alt=\"Open In Colab\"/></a>"
      ]
    },
    {
      "cell_type": "code",
      "execution_count": 1,
      "metadata": {
        "id": "pwETpVgVo5Ur"
      },
      "outputs": [],
      "source": [
        "!pip install -q nltk scikit-learn\n"
      ]
    },
    {
      "cell_type": "code",
      "source": [
        "import nltk\n",
        "nltk.download('punkt')\n",
        "nltk.download('stopwords')\n",
        "nltk.download('movie_reviews')\n",
        "nltk.download('punkt_tab') # Added to download the missing resource\n",
        "\n",
        "\n",
        "import random\n",
        "import pandas as pd\n",
        "from nltk.corpus import movie_reviews\n",
        "from nltk.corpus import stopwords\n",
        "from nltk.tokenize import word_tokenize\n",
        "from nltk.classify import SklearnClassifier\n",
        "from sklearn.naive_bayes import MultinomialNB\n",
        "from nltk import classify, NaiveBayesClassifier"
      ],
      "metadata": {
        "colab": {
          "base_uri": "https://localhost:8080/"
        },
        "id": "2PSH6lc4pENt",
        "outputId": "621c9673-3dc4-4a5d-8c0b-444a111990eb"
      },
      "execution_count": 10,
      "outputs": [
        {
          "output_type": "stream",
          "name": "stderr",
          "text": [
            "[nltk_data] Downloading package punkt to /root/nltk_data...\n",
            "[nltk_data]   Package punkt is already up-to-date!\n",
            "[nltk_data] Downloading package stopwords to /root/nltk_data...\n",
            "[nltk_data]   Package stopwords is already up-to-date!\n",
            "[nltk_data] Downloading package movie_reviews to /root/nltk_data...\n",
            "[nltk_data]   Package movie_reviews is already up-to-date!\n",
            "[nltk_data] Downloading package punkt_tab to /root/nltk_data...\n",
            "[nltk_data]   Package punkt_tab is already up-to-date!\n"
          ]
        }
      ]
    },
    {
      "cell_type": "code",
      "source": [
        "documents = [(list(movie_reviews.words(fileid)), category)\n",
        "             for category in movie_reviews.categories()\n",
        "             for fileid in movie_reviews.fileids(category)]\n",
        "random.shuffle(documents)\n"
      ],
      "metadata": {
        "id": "wzEAFkfepJk4"
      },
      "execution_count": 3,
      "outputs": []
    },
    {
      "cell_type": "code",
      "source": [
        "all_words = nltk.FreqDist(w.lower() for w in movie_reviews.words())\n",
        "word_features = list(all_words)[:2000]  # Top 2000 words\n",
        "\n",
        "def document_features(document):\n",
        "    words = set(document)\n",
        "    features = {}\n",
        "    for word in word_features:\n",
        "        features[f'contains({word})'] = (word in words)\n",
        "    return features\n",
        "\n",
        "# Create feature sets\n",
        "featuresets = [(document_features(d), c) for (d, c) in documents]\n"
      ],
      "metadata": {
        "id": "gzUVAPbJpODz"
      },
      "execution_count": 4,
      "outputs": []
    },
    {
      "cell_type": "code",
      "source": [
        "train_set, test_set = featuresets[:1500], featuresets[1500:]\n",
        "classifier = NaiveBayesClassifier.train(train_set)\n"
      ],
      "metadata": {
        "id": "FuZbrcSPpYDj"
      },
      "execution_count": 5,
      "outputs": []
    },
    {
      "cell_type": "code",
      "source": [
        "print(\"Accuracy:\", classify.accuracy(classifier, test_set))\n",
        "classifier.show_most_informative_features(10)\n"
      ],
      "metadata": {
        "colab": {
          "base_uri": "https://localhost:8080/"
        },
        "id": "pnrV_XpkpcoL",
        "outputId": "3b736b0c-a182-4ac3-8853-b2725e5018ed"
      },
      "execution_count": 6,
      "outputs": [
        {
          "output_type": "stream",
          "name": "stdout",
          "text": [
            "Accuracy: 0.82\n",
            "Most Informative Features\n",
            "   contains(outstanding) = True              pos : neg    =      9.0 : 1.0\n",
            "   contains(wonderfully) = True              pos : neg    =      7.2 : 1.0\n",
            "         contains(mulan) = True              pos : neg    =      7.0 : 1.0\n",
            "        contains(seagal) = True              neg : pos    =      5.8 : 1.0\n",
            "        contains(wasted) = True              neg : pos    =      5.8 : 1.0\n",
            "        contains(poorly) = True              neg : pos    =      5.7 : 1.0\n",
            "     contains(laughable) = True              neg : pos    =      5.7 : 1.0\n",
            "         contains(damon) = True              pos : neg    =      5.6 : 1.0\n",
            "          contains(lame) = True              neg : pos    =      5.6 : 1.0\n",
            "         contains(awful) = True              neg : pos    =      4.8 : 1.0\n"
          ]
        }
      ]
    },
    {
      "cell_type": "code",
      "source": [
        "url = \"https://zenodo.org/record/10157504/files/data_rt.csv?download=1\"\n"
      ],
      "metadata": {
        "id": "rKBM2XAutNzw"
      },
      "execution_count": 9,
      "outputs": []
    }
  ]
}